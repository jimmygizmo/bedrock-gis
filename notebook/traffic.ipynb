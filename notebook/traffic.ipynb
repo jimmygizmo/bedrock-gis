{
 "cells": [
  {
   "cell_type": "code",
   "execution_count": null,
   "id": "37964549b2de3f6c",
   "metadata": {},
   "outputs": [],
   "source": [
    "# %pip install - in .ipynb files is the correct way to ensure installation into the correct environment (kernel)\n",
    "%pip install requests\n",
    "%pip install pandas\n",
    "%pip install geopandas\n",
    "%pip install mapboxgl\n",
    "%pip install shapely\n",
    "\n",
    "MAPBOX_TOKEN=''\n",
    "BASE_URL=''\n",
    "# Aggregates URL: http://localhost:48000/aggregates\n"
   ]
  }
 ],
 "metadata": {
  "kernelspec": {
   "display_name": "Python 3 (ipykernel)",
   "language": "python",
   "name": "python3"
  },
  "language_info": {
   "codemirror_mode": {
    "name": "ipython",
    "version": 3
   },
   "file_extension": ".py",
   "mimetype": "text/x-python",
   "name": "python",
   "nbconvert_exporter": "python",
   "pygments_lexer": "ipython3",
   "version": "3.12.10"
  }
 },
 "nbformat": 4,
 "nbformat_minor": 5
}
